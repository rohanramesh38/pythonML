{
  "nbformat": 4,
  "nbformat_minor": 0,
  "metadata": {
    "colab": {
      "name": "PotholePrediction.ipynb",
      "provenance": [],
      "collapsed_sections": [],
      "include_colab_link": true
    },
    "kernelspec": {
      "name": "python3",
      "display_name": "Python 3"
    },
    "accelerator": "GPU"
  },
  "cells": [
    {
      "cell_type": "markdown",
      "metadata": {
        "id": "view-in-github",
        "colab_type": "text"
      },
      "source": [
        "<a href=\"https://colab.research.google.com/github/rohanramesh38/pythonML/blob/master/PotholePrediction.ipynb\" target=\"_parent\"><img src=\"https://colab.research.google.com/assets/colab-badge.svg\" alt=\"Open In Colab\"/></a>"
      ]
    },
    {
      "cell_type": "code",
      "metadata": {
        "id": "XjP3nCK2saBe",
        "colab_type": "code",
        "colab": {}
      },
      "source": [
        "from __future__ import absolute_import, division, print_function, unicode_literals #l\n",
        "\n",
        "from sklearn.model_selection import train_test_split\n",
        "from sklearn.model_selection import KFold\n",
        "from sklearn.metrics import accuracy_score,precision_score,recall_score,confusion_matrix,roc_curve,roc_auc_score\n",
        "from sklearn.model_selection import GridSearchCV\n",
        "from sklearn.preprocessing import LabelEncoder\n"
      ],
      "execution_count": 0,
      "outputs": []
    },
    {
      "cell_type": "markdown",
      "metadata": {
        "id": "tch9fA4jSR9w",
        "colab_type": "text"
      },
      "source": [
        ""
      ]
    },
    {
      "cell_type": "code",
      "metadata": {
        "id": "mSQIRqawdve1",
        "colab_type": "code",
        "colab": {}
      },
      "source": [
        "from tensorflow.python.platform import gfile\n"
      ],
      "execution_count": 0,
      "outputs": []
    },
    {
      "cell_type": "code",
      "metadata": {
        "id": "MLSe2G9GutK4",
        "colab_type": "code",
        "colab": {}
      },
      "source": [
        "from keras.layers import Dropout, Flatten,Activation\n",
        "from keras.layers import Conv2D, MaxPooling2D, BatchNormalization\n",
        "from keras.layers import InputLayer\n",
        "from keras import backend as K\n",
        "from tensorflow.python.tools import freeze_graph\n",
        "from tensorflow.python.tools import optimize_for_inference_lib\n",
        "import tensorflow as tf\n",
        "import random as rn\n",
        "import pathlib"
      ],
      "execution_count": 0,
      "outputs": []
    },
    {
      "cell_type": "code",
      "metadata": {
        "id": "rkU5b6n6sj1-",
        "colab_type": "code",
        "colab": {}
      },
      "source": [
        "import numpy as np\n",
        "import pandas as pd\n",
        "import matplotlib.pyplot as plt\n",
        "from matplotlib import style\n",
        "import warnings\n",
        "warnings.filterwarnings('always')\n",
        "warnings.filterwarnings('ignore')"
      ],
      "execution_count": 0,
      "outputs": []
    },
    {
      "cell_type": "code",
      "metadata": {
        "id": "13-3kfBosgDx",
        "colab_type": "code",
        "colab": {}
      },
      "source": [
        "import cv2                  \n",
        "import numpy as np  \n",
        "from tqdm import tqdm\n",
        "import os                   \n",
        "from random import shuffle  \n",
        "from zipfile import ZipFile\n",
        "from PIL import Image\n",
        "import keras.preprocessing.image as img\n",
        "from keras.applications.resnet50 import ResNet50"
      ],
      "execution_count": 0,
      "outputs": []
    },
    {
      "cell_type": "code",
      "metadata": {
        "id": "kulBQvQosvW3",
        "colab_type": "code",
        "colab": {}
      },
      "source": [
        ""
      ],
      "execution_count": 0,
      "outputs": []
    },
    {
      "cell_type": "code",
      "metadata": {
        "id": "6uFIm1r6s8Jd",
        "colab_type": "code",
        "colab": {}
      },
      "source": [
        "from keras.preprocessing.image import ImageDataGenerator\n",
        "\n",
        "from keras import backend as K\n",
        "from keras import regularizers\n",
        "from keras.models import Sequential\n",
        "from keras.models import Model\n",
        "from keras.layers import Dense\n",
        "from keras.optimizers import Adam,SGD,Adagrad,Adadelta,RMSprop\n",
        "from keras.utils import to_categorical\n",
        "from keras.callbacks import ReduceLROnPlateau"
      ],
      "execution_count": 0,
      "outputs": []
    },
    {
      "cell_type": "code",
      "metadata": {
        "id": "X-bHowV9tDsa",
        "colab_type": "code",
        "colab": {}
      },
      "source": [
        "from google.colab import drive\n",
        "drive.mount('/content/drive')"
      ],
      "execution_count": 0,
      "outputs": []
    },
    {
      "cell_type": "code",
      "metadata": {
        "id": "LWJCMpsztEXy",
        "colab_type": "code",
        "colab": {}
      },
      "source": [
        "for dirname, _, filenames in os.walk('/content/drive/My Drive/sihPotholeDataset'):\n",
        "    for filename in filenames:\n",
        "        print(os.path.join(dirname, filename))\n",
        "        #print(dirname)"
      ],
      "execution_count": 0,
      "outputs": []
    },
    {
      "cell_type": "code",
      "metadata": {
        "id": "wNKJbrLRtuab",
        "colab_type": "code",
        "colab": {}
      },
      "source": [
        "os.listdir('/content/drive/My Drive/sihPotholeDataset/train')\n"
      ],
      "execution_count": 0,
      "outputs": []
    },
    {
      "cell_type": "code",
      "metadata": {
        "id": "skHe0CSCuKGx",
        "colab_type": "code",
        "colab": {}
      },
      "source": [
        "def make_train_data(label,DIR):\n",
        "    for img in tqdm(os.listdir(DIR)):\n",
        "        path = os.path.join(DIR,img)\n",
        "        img = cv2.imread(path,cv2.IMREAD_COLOR)\n",
        "        img = cv2.resize(img, (IMG_SIZE,IMG_SIZE))\n",
        "    \n",
        "        X.append(np.array(img))\n",
        "        Z.append(str(label))"
      ],
      "execution_count": 0,
      "outputs": []
    },
    {
      "cell_type": "code",
      "metadata": {
        "id": "HtLZXesmuOO3",
        "colab_type": "code",
        "colab": {}
      },
      "source": [
        "X=[]\n",
        "Z=[]\n",
        "IMG_SIZE=256\n",
        "Plain='/content/drive/My Drive/sihPotholeDataset/train/Plain'\n",
        "Pothole='/content/drive/My Drive/sihPotholeDataset/train/Pothole'\n",
        "\n",
        "make_train_data('Plain',Plain)\n",
        "make_train_data('Pothole',Pothole)"
      ],
      "execution_count": 0,
      "outputs": []
    },
    {
      "cell_type": "code",
      "metadata": {
        "id": "i6Fcm9h4bMtv",
        "colab_type": "code",
        "colab": {}
      },
      "source": [
        ""
      ],
      "execution_count": 0,
      "outputs": []
    },
    {
      "cell_type": "code",
      "metadata": {
        "id": "iQJ-Q1G0uXJA",
        "colab_type": "code",
        "colab": {}
      },
      "source": [
        "fig,ax=plt.subplots(2,5)\n",
        "plt.subplots_adjust(bottom=0.3, top=0.7, hspace=0)\n",
        "fig.set_size_inches(10,10)\n",
        "\n",
        "for i in range(2):\n",
        "    for j in range (5):\n",
        "        l=rn.randint(0,len(Z))\n",
        "        ax[i,j].imshow(X[l][:])\n",
        "        ax[i,j].set_title(Z[l])\n",
        "        ax[i,j].set_aspect('equal')"
      ],
      "execution_count": 0,
      "outputs": []
    },
    {
      "cell_type": "code",
      "metadata": {
        "id": "ir0m84TVueNd",
        "colab_type": "code",
        "colab": {}
      },
      "source": [
        "le=LabelEncoder()\n",
        "Y=le.fit_transform(Z)\n",
        "Y=to_categorical(Y,2)\n",
        "print(Y)\n",
        "X=np.array(X)\n",
        "\n",
        "x_train,x_test,y_train,y_test=train_test_split(X,Y,test_size=0.25,random_state=1337)\n",
        "\n",
        "np.random.seed(42)\n",
        "rn.seed(42)"
      ],
      "execution_count": 0,
      "outputs": []
    },
    {
      "cell_type": "code",
      "metadata": {
        "id": "yq0395dGu3BE",
        "colab_type": "code",
        "colab": {}
      },
      "source": [
        "base_model=ResNet50(include_top=False, weights='imagenet',input_shape=(256,256,3), pooling='max')\n",
        "base_model.summary()"
      ],
      "execution_count": 0,
      "outputs": []
    },
    {
      "cell_type": "code",
      "metadata": {
        "id": "DIa8it62u5j7",
        "colab_type": "code",
        "colab": {}
      },
      "source": [
        "model=Sequential()\n",
        "model.add(base_model)\n",
        "model.add(Dropout(0.20))\n",
        "model.add(Dense(2048,activation='relu'))\n",
        "model.add(Dense(1024,activation='relu'))\n",
        "model.add(Dense(512,activation='relu'))\n",
        "model.add(Dense(2,activation='softmax' ,name='output'))"
      ],
      "execution_count": 0,
      "outputs": []
    },
    {
      "cell_type": "code",
      "metadata": {
        "id": "DiY2YiEmu_S1",
        "colab_type": "code",
        "colab": {}
      },
      "source": [
        "epochs=50\n",
        "batch_size=128\n",
        "red_lr=ReduceLROnPlateau(monitor='val_acc', factor=0.1, min_delta=0.0001, patience=2, verbose=1)\n",
        "base_model.trainable=True # setting the VGG model to be trainable.\n",
        "model.compile(optimizer=Adam(lr=1e-5),loss='categorical_crossentropy',metrics=['accuracy'])\n",
        "model.summary()"
      ],
      "execution_count": 0,
      "outputs": []
    },
    {
      "cell_type": "code",
      "metadata": {
        "id": "AAlIDdqOvHXz",
        "colab_type": "code",
        "colab": {}
      },
      "source": [
        "History = model.fit(x_train, y_train, epochs=epochs, validation_data=(x_test,y_test))\n"
      ],
      "execution_count": 0,
      "outputs": []
    },
    {
      "cell_type": "code",
      "metadata": {
        "id": "mDwqX-NN2D8E",
        "colab_type": "code",
        "colab": {}
      },
      "source": [
        "path = \"/content/drive/My Drive/sihPotholeDataset/test/Pothole\"\n",
        "files = os.listdir(path)\n",
        "files"
      ],
      "execution_count": 0,
      "outputs": []
    },
    {
      "cell_type": "code",
      "metadata": {
        "id": "lvGkqAXK2N9s",
        "colab_type": "code",
        "colab": {}
      },
      "source": [
        "for i in tqdm(files):\n",
        "    pth = os.path.join(path,i)\n",
        "    X = cv2.imread(pth,cv2.IMREAD_COLOR)\n",
        "    X = cv2.resize(X,(256,256))\n",
        "    plt.figure()\n",
        "    plt.imshow(X[:,:,::-1]) \n",
        "    plt.show()  \n",
        "\n",
        "    X = np.array(X)\n",
        "    X = np.expand_dims(X, axis=0)\n",
        "\n",
        "    y_pred = np.round(model.predict(X))\n",
        "    if y_pred[0][0] == 1:\n",
        "        print(\"Plain Road\")\n",
        "    else:\n",
        "        print(\"Pothole Road\")"
      ],
      "execution_count": 0,
      "outputs": []
    },
    {
      "cell_type": "code",
      "metadata": {
        "id": "SPWvvNNr3Prq",
        "colab_type": "code",
        "colab": {}
      },
      "source": [
        "path = \"/content/drive/My Drive/sihPotholeDataset/test/Plain\"\n",
        "files = os.listdir(path)\n",
        "files"
      ],
      "execution_count": 0,
      "outputs": []
    },
    {
      "cell_type": "code",
      "metadata": {
        "id": "C5rN8C003dF6",
        "colab_type": "code",
        "colab": {}
      },
      "source": [
        "for i in tqdm(files):\n",
        "    pth = os.path.join(path,i)\n",
        "    X = cv2.imread(pth,cv2.IMREAD_COLOR)\n",
        "    X = cv2.resize(X,(256,256))\n",
        "    plt.figure()\n",
        "    plt.imshow(X[:,:,::-1]) \n",
        "    plt.show()  \n",
        "\n",
        "\n",
        "    X = np.array(X)\n",
        "    X = np.expand_dims(X, axis=0)\n",
        "\n",
        "    y_pred = np.round(model.predict(X))\n",
        "    if y_pred[0][0] == 1:\n",
        "        print(\"Plain Road\")\n",
        "    else:\n",
        "        print(\"Pothole Road\")"
      ],
      "execution_count": 0,
      "outputs": []
    },
    {
      "cell_type": "code",
      "metadata": {
        "id": "GcPzfQSmvUbp",
        "colab_type": "code",
        "colab": {}
      },
      "source": [
        "input_arrays=[node.op.name for node in model.inputs]"
      ],
      "execution_count": 0,
      "outputs": []
    },
    {
      "cell_type": "code",
      "metadata": {
        "id": "2lgo2ZfPxKK-",
        "colab_type": "code",
        "colab": {}
      },
      "source": [
        "MODEL_NAME='pothole'"
      ],
      "execution_count": 0,
      "outputs": []
    },
    {
      "cell_type": "code",
      "metadata": {
        "id": "R1J7rgELwtVf",
        "colab_type": "code",
        "colab": {}
      },
      "source": [
        "output_arrays=[node.op.name for node in model.outputs]"
      ],
      "execution_count": 0,
      "outputs": []
    },
    {
      "cell_type": "code",
      "metadata": {
        "id": "qWiFi-qxwnMU",
        "colab_type": "code",
        "colab": {}
      },
      "source": [
        "def export_model(saver, model, input_node_names, output_node_name):\n",
        "    tf.train.write_graph(K.get_session().graph_def, 'sai', \\\n",
        "        MODEL_NAME + '_graph.pbtxt')\n",
        "\n",
        "    saver.save(K.get_session(), 'sai/' + MODEL_NAME + '.chkp')\n",
        "\n",
        "    freeze_graph.freeze_graph('sai/' + MODEL_NAME + '_graph.pbtxt', None, \\\n",
        "        False, 'sai/' + MODEL_NAME + '.chkp', output_node_name, \\\n",
        "        \"save/restore_all\", \"save/Const:0\", \\\n",
        "        'sai/frozen_' + MODEL_NAME + '.pb', True, \"\")\n",
        "\n",
        "    input_graph_def = tf.GraphDef()\n",
        "    with tf.gfile.Open('sai/frozen_' + MODEL_NAME + '.pb', \"rb\") as f:\n",
        "        input_graph_def.ParseFromString(f.read())\n",
        "\n",
        "    output_graph_def = optimize_for_inference_lib.optimize_for_inference(\n",
        "            input_graph_def, input_node_names, [output_node_name],\n",
        "            tf.float32.as_datatype_enum)\n",
        "\n",
        "    with tf.gfile.FastGFile('sai/opt_' + MODEL_NAME + '.pb', \"wb\") as f:\n",
        "        f.write(output_graph_def.SerializeToString())\n",
        "\n",
        "    print(\"graph saved!\")"
      ],
      "execution_count": 0,
      "outputs": []
    },
    {
      "cell_type": "code",
      "metadata": {
        "id": "oumHHz5BwpC2",
        "colab_type": "code",
        "colab": {}
      },
      "source": [
        "export_model(tf.train.Saver(), model, ['resnet50_input'], \"output/Softmax\")\n"
      ],
      "execution_count": 0,
      "outputs": []
    },
    {
      "cell_type": "code",
      "metadata": {
        "id": "p-wWFn_qdnZb",
        "colab_type": "code",
        "colab": {}
      },
      "source": [
        "GRAPH_PB_PATH = './sai/opt_pothole.pb'\n"
      ],
      "execution_count": 0,
      "outputs": []
    },
    {
      "cell_type": "code",
      "metadata": {
        "id": "Cdw2-N8zeNv8",
        "colab_type": "code",
        "colab": {}
      },
      "source": [
        "with tf.Session() as sess:\n",
        "   print(\"load graph\")\n",
        "   with gfile.FastGFile(GRAPH_PB_PATH,'rb') as f:\n",
        "       graph_def = tf.GraphDef()\n",
        "   graph_def.ParseFromString(f.read())\n",
        "   sess.graph.as_default()\n",
        "   tf.import_graph_def(graph_def, name='')\n",
        "   graph_nodes=[n for n in graph_def.node]\n",
        "   names = []\n",
        "   for t in graph_nodes:\n",
        "      names.append(t.name)\n",
        "   print(names)"
      ],
      "execution_count": 0,
      "outputs": []
    },
    {
      "cell_type": "code",
      "metadata": {
        "id": "LhUlBcVVfDLz",
        "colab_type": "code",
        "colab": {}
      },
      "source": [
        "gf = tf.GraphDef()   \n",
        "m_file = open(GRAPH_PB_PATH,'rb')\n",
        "gf.ParseFromString(m_file.read())\n",
        "\n",
        "with open('somefile.txt', 'a') as the_file:\n",
        "    for n in gf.node:\n",
        "        the_file.write(n.name+'\\n')\n",
        "\n",
        "file = open('somefile.txt','r')\n",
        "data = file.readlines()\n",
        "print(\"output name = \")\n",
        "print(data[len(data)-1])\n",
        "\n",
        "print(\"Input name = \")\n",
        "file.seek ( 0 )\n",
        "print(file.readline())"
      ],
      "execution_count": 0,
      "outputs": []
    },
    {
      "cell_type": "code",
      "metadata": {
        "id": "KmqDyfPOMqPh",
        "colab_type": "code",
        "colab": {}
      },
      "source": [
        "#export_dir='/suresh/saved_model'\n",
        "#tf.saved_model.save(model,export_dir)"
      ],
      "execution_count": 0,
      "outputs": []
    },
    {
      "cell_type": "code",
      "metadata": {
        "id": "uYbThvN8WULY",
        "colab_type": "code",
        "colab": {}
      },
      "source": [
        "#converter=tf.lite.TFLiteConverter.from_saved_model(export_dir)\n",
        "#tflite_model=converter.convert\n",
        "\n",
        "\n"
      ],
      "execution_count": 0,
      "outputs": []
    },
    {
      "cell_type": "code",
      "metadata": {
        "id": "bDA6vLj1Whty",
        "colab_type": "code",
        "colab": {}
      },
      "source": [
        "#tflite_model_file=pathlib.Path('/suresh/hello.tflite')\n",
        "#tflite_model_file.write_bytes(tflite_model)"
      ],
      "execution_count": 0,
      "outputs": []
    },
    {
      "cell_type": "code",
      "metadata": {
        "id": "ZyEgXHIGgH25",
        "colab_type": "code",
        "colab": {}
      },
      "source": [
        "input_arrays"
      ],
      "execution_count": 0,
      "outputs": []
    },
    {
      "cell_type": "code",
      "metadata": {
        "id": "2VsZcI1Yf87k",
        "colab_type": "code",
        "colab": {}
      },
      "source": [
        "graph_def_file = \"./sai/opt_pothole.pb\"\n",
        "\n",
        "\n",
        "converter = tf.lite.TFLiteConverter.from_frozen_graph(\n",
        "        graph_def_file, input_arrays, output_arrays)\n",
        "tflite_model = converter.convert()\n",
        "open(\"converted_model.tflite\", \"wb\").write(tflite_model)"
      ],
      "execution_count": 0,
      "outputs": []
    },
    {
      "cell_type": "code",
      "metadata": {
        "id": "A9FGRYgkgrOe",
        "colab_type": "code",
        "colab": {}
      },
      "source": [
        ""
      ],
      "execution_count": 0,
      "outputs": []
    }
  ]
}